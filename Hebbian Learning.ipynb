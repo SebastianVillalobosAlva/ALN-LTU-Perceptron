{
 "cells": [
  {
   "cell_type": "markdown",
   "metadata": {},
   "source": [
    "# Artificial Neural Networks II - Hebbian Learning\n",
    "\n",
    "### MSc Cesar Arturo Angeles Ruiz \n",
    "\n",
    "## Hebbian Learning \n",
    "\n",
    "After the appearance of the first logic and linear neuron representations, greater advances in the world of computation and neurosciences were made. Firstly, the understanding of the not-that-binary nature of neurons introduced new ideas on how these could be utilised to create intelligent systems. From a computational perspective, __the development of the transistor in the 1960s__ as the main computation device and the beginning of the Moore era started giving the computational power that such algorithms needed in order for __the second wave__ of interest __of AI to emerge__. \n",
    "\n",
    "<img src=\"imgs/transistor.png\" alt=\"Drawing\" style=\"width: 250px;\"/>\n",
    "\n",
    "On this laboratory, the development of further neural network architectures and algorithms will be explored. We will start with the simple previous concept coined by __Frank Rosenblatt during the 50s__ and the LTU. However, this time, implementing the learning of the neural net with the ideas explored by __Donald Hebb in the 1949s__ of reinforced connected neurons. Afterwards, we will explore their application and some of the considerations and phenomena that are introduced using this methodology. Furthermore, we will see that this new concept allowed for muliple neurons to be stacked within a computational graph. That gave more powerful capabilities to neural networks to learn complex patterns, quality that returned the focus for further research and utilisation as the main agent in the world of AI and has stayed until then. \n",
    "\n",
    "<img src=\"imgs/neuralnet.gif\" alt=\"Drawing\" style=\"width: 400px;\"/>\n",
    "\n",
    "### So without further ado, \n",
    "#### Lets get back to the 60s and discover their power of computation! \n",
    "\n",
    "<img src=\"imgs/backfuture.gif\" alt=\"Drawing\" style=\"width: 300px;\"/>"
   ]
  },
  {
   "cell_type": "markdown",
   "metadata": {},
   "source": [
    "## Hebbian Learning and the LTUs\n",
    "\n",
    "After the proposal of the first topology for a learning neuron, the world of AI went into a slow evolution that led to a halt. The __normal equation__ proposed a fairly formal methodology to train these neurons, that was supported not only by fundamental mathematics; but also some statistical and probabilistic theorems. However, this same power and backup were the same that constraned their utilisation to only __well behaved intelligent systems__. Data that was slightly more caotic and with other than normal distributed, had some problems and convergence problems, specially for regression tasks. \n",
    "<img src=\"imgs/normal.png\" alt=\"Drawing\" style=\"width: 300px;\"/>\n",
    "\n",
    "\n",
    "At the end of the 1940's, a new light for neural nets came again from a deeper study result in the area of biological psychology. Coming from the humble town of Chester, Canada; the __Neuro-psychologist: Donald Hebb__, brought together two of the most important realms in human behaviour. On his book, _\"**The Organisation of Behaviour (Wiley)**\"_ , Hebb proposed what was considered as one of the biggest contributions in the field of neurosciences. __The connection between human perception__ and the biological behaviour of __our biological neural networks__.\n",
    "\n",
    "<img src=\"imgs/hebb.jpg\" alt=\"Drawing\" style=\"width: 300px;\"/>\n",
    "\n",
    "He observed that input stimuli coming any of our senses generated spikes of receptory organs' neurons. As the subject in test used to receive more and more inputs, constant spikes started being stronger and stronger -- increasing the amount of connectivity between input and receiving neuron. This therefore, led to the idea on how __humans' brains create new connections and reinforce neural paths during the learning process__. This important discovery led to the realisation of the biological and psychological mechanism of the human brain, and an would inspire one of the algorithms that made neural networks become one of the most important learning agents until now. \n",
    "\n",
    "The previous behaviour was denominated Hebbian learning in honour of Donald Hebb. He would have been quoted later by __Professor Dr Siegrid Löwel__ as *_Neurons that fire together, wire together_*, which would inspire a nover learning algorithm for LTU that would later allow for new types of networks with less strict mathematical and statistical assumptions. \n",
    "\n",
    "<img src=\"imgs/synapse.jpg\" alt=\"Drawing\" style=\"width: 300px;\"/>\n"
   ]
  },
  {
   "cell_type": "markdown",
   "metadata": {},
   "source": [
    "## Perceiving Flowers with Hebbian Leaning\n",
    "\n",
    "To demonstrate the __power of perceptrons through hebbian learning__, lets implement a more visual and easy example. \n",
    "\n",
    "One of the most basic exercises (something like the Hello World in machine learning) is to make a system learn to identify different types of flowers depending on their physical characteristics. That is the length of their leaves, width, colour; among others. These characteristics can be easily coming from an image or directly as a database of collected samples. The origin of the data does not make a difference. \n",
    "\n",
    "Due to its large utilisation in the world of machine learning, the dataset can be find within the __datasets__ module within the sklearn library. \n",
    "\n",
    "\n",
    "#### So lets load it now and implement our first Hebbian adapted LTU.\n",
    "\n",
    "<img src=\"imgs/ready.gif\" alt=\"Drawing\" style=\"width: 200px;\"/>"
   ]
  },
  {
   "cell_type": "markdown",
   "metadata": {},
   "source": [
    "Lets begin by importing our support modules and two new ones: \n",
    "\n",
    "```python\n",
    "import numpy as np\n",
    "import matplotlib.pyplot as plt \n",
    "from sklearn.base import BaseEstimator, TransformerMixin\n",
    "\n",
    "from sklearn.model_selection import train_test_split\n",
    "from sklearn.utils import shuffle \n",
    "\n",
    "```\n",
    "\n",
    "As any other machine learning task, remember that is of __vital importance__ to generate the training and test set. Remember that __data snooping__ is one of the main reasons a model could badly fail, and its effects can only be seen until new data arrives -- which happens mainly during deployment. For that reason, it will be strongly emphasised during the duration of the course.  \n",
    "\n",
    "For that reason, the new ```python sklearn.model_selection ``` module will help us easily generate date splits evenly between predictor variables and their target values. \n",
    "\n",
    "As we will see, neural networks have quite a condition given by the initialisation of their parameters and the order for which they are trained. For that reason, the module ```python sklearn.utils ``` will give us full control on the position of the data and some other randomising functions for these purposes.\n",
    "\n",
    "\n",
    "Finally, ```python Sklearn.datasets``` module have a series of experimental benchmarking sets for you to try new and novel algorithms. Our flowers datasets can be found here. Lets load it to begin with as:\n",
    "\n",
    "```python\n",
    "from sklearn.datasets import load_iris\n",
    "\n",
    "```\n",
    "\n",
    "\n"
   ]
  },
  {
   "cell_type": "code",
   "execution_count": 24,
   "metadata": {},
   "outputs": [],
   "source": [
    "# Your imports and data loading code here!!\n",
    "import numpy as np\n",
    "import matplotlib.pyplot as plt \n",
    "from sklearn.base import BaseEstimator, TransformerMixin\n",
    "from sklearn.datasets import load_iris\n",
    "import pylab\n",
    "from sklearn.model_selection import train_test_split\n",
    "from sklearn.utils import shuffle \n",
    "from scipy import stats\n",
    "import pandas as pd"
   ]
  },
  {
   "cell_type": "code",
   "execution_count": 25,
   "metadata": {},
   "outputs": [],
   "source": [
    "## Import the dataset module and load tghe IRIS dataset!\n",
    "iris = load_iris()"
   ]
  },
  {
   "cell_type": "markdown",
   "metadata": {},
   "source": [
    "Now, the iris dataset is imported as a vert specific Data structure. The return value is a dictionary with different fields that comprises values such as: the description, the data, target values; etc. \n",
    "\n",
    "To access the relevant values of the dictionary we just need to access it through their attributes:\n",
    "\n",
    "```python\n",
    "# Eg loading the iris dataset and selecting data:\n",
    "LENGTH = 2; WIDTH = 3\n",
    "\n",
    "\n",
    "iris = load_iris()\n",
    "X = iris.data[:, (LENGTH, WIDTH)]\n",
    "y = iris.target\n",
    "\n",
    "```\n",
    "\n",
    "Remember the first and most important parts from any machine learning exercise are the initial exploration. So first try to respond to some questions such as:\n",
    "\n",
    "- What is the meaning of each column?\n",
    "- How many flower types do I have? How are they encoded? \n",
    "- How many samples per category are there? Which distributions do they have?\n",
    "- What are the expected first and second moments of each feature, are they learnable?\n",
    "\n",
    "\n"
   ]
  },
  {
   "cell_type": "code",
   "execution_count": 26,
   "metadata": {},
   "outputs": [],
   "source": [
    "## Generate the data column macros and explore the iris dataset\n",
    "# Instanciate both X and y frames and explore some of the features and distributions through an EDA\n",
    "LENGTH = 2; WIDTH = 3\n",
    "SETOSA = 1"
   ]
  },
  {
   "cell_type": "code",
   "execution_count": 27,
   "metadata": {},
   "outputs": [],
   "source": [
    "X = iris.data[:, (LENGTH, WIDTH)]\n",
    "y = iris.target\n",
    "feature_names = iris.feature_names\n",
    "target_names = iris.target_names"
   ]
  },
  {
   "cell_type": "code",
   "execution_count": 28,
   "metadata": {},
   "outputs": [
    {
     "name": "stdout",
     "output_type": "stream",
     "text": [
      "['sepal length (cm)', 'sepal width (cm)', 'petal length (cm)', 'petal width (cm)']\n",
      "['setosa' 'versicolor' 'virginica']\n"
     ]
    }
   ],
   "source": [
    "## Print feature names and class names\n",
    "print(feature_names)\n",
    "print(target_names)"
   ]
  },
  {
   "cell_type": "code",
   "execution_count": 29,
   "metadata": {},
   "outputs": [
    {
     "name": "stdout",
     "output_type": "stream",
     "text": [
      "Petal length and width first 10 values: \n",
      "\n",
      " |    |   Petal Length |   Petal Width |\n",
      "|---:|---------------:|--------------:|\n",
      "|  0 |            1.4 |           0.2 |\n",
      "|  1 |            1.4 |           0.2 |\n",
      "|  2 |            1.3 |           0.2 |\n",
      "|  3 |            1.5 |           0.2 |\n",
      "|  4 |            1.4 |           0.2 |\n",
      "|  5 |            1.7 |           0.4 |\n",
      "|  6 |            1.4 |           0.3 |\n",
      "|  7 |            1.5 |           0.2 |\n",
      "|  8 |            1.4 |           0.2 |\n",
      "|  9 |            1.5 |           0.1 |\n",
      "\n",
      "Class for first 10 values: \n",
      "\n",
      " |    |   Class |\n",
      "|---:|--------:|\n",
      "|  0 |       0 |\n",
      "|  1 |       0 |\n",
      "|  2 |       0 |\n",
      "|  3 |       0 |\n",
      "|  4 |       0 |\n",
      "|  5 |       0 |\n",
      "|  6 |       0 |\n",
      "|  7 |       0 |\n",
      "|  8 |       0 |\n",
      "|  9 |       0 |\n"
     ]
    }
   ],
   "source": [
    "# Print first 10 values of petal length, width and it classes; as dataFrames\n",
    "print('Petal length and width first 10 values: \\n\\n',pd.DataFrame(X[:10,:],columns=['Petal Length','Petal Width']).to_markdown())\n",
    "print('\\nClass for first 10 values: \\n\\n',pd.DataFrame(y[:10],columns=['Class']).to_markdown())"
   ]
  },
  {
   "cell_type": "code",
   "execution_count": 30,
   "metadata": {},
   "outputs": [],
   "source": [
    "petal_length_mean = X[:,0].mean() # Obtain mean of petal length\n",
    "petal_length_std = X[:,0].std() # Obtain standard deviation of petal length\n",
    "petal_length_median = np.median(X[:,0]) # Obtain median of petal length\n",
    "petal_length_mode= stats.mode(X[:,0]) # Obtain mode of petal length\n",
    "petal_length_range = X[:,0].max() - X[:,0].min() # Obtain range of petal length"
   ]
  },
  {
   "cell_type": "code",
   "execution_count": 31,
   "metadata": {},
   "outputs": [
    {
     "name": "stdout",
     "output_type": "stream",
     "text": [
      "The petal length mean is: 3.7580000000000005 cm\n",
      "The petal length mode is: 1.4 cm\n",
      "The petal length median is: 4.35 cm\n",
      "The petal length range is: 5.9 cm\n",
      "The petal length std is: 1.759404065775303 cm\n"
     ]
    }
   ],
   "source": [
    "print(\"The petal length mean is: {} cm\".format(petal_length_mean)) # Print petal length mean\n",
    "print('The petal length mode is: {} cm'.format(petal_length_mode[0].item())) # Print petal length mode\n",
    "print('The petal length median is: {} cm'.format(petal_length_median)) # Print petal length median\n",
    "print('The petal length range is: {} cm'.format(petal_length_range)) # Print petal length range\n",
    "print('The petal length std is: {} cm'.format(petal_length_std)) # Print petal length standard deviation"
   ]
  },
  {
   "cell_type": "code",
   "execution_count": 32,
   "metadata": {},
   "outputs": [],
   "source": [
    "petal_width_mean = X[:,1].mean() # Obtain mean of petal width\n",
    "petal_width_std = X[:,1].std() # Obtain standard deviation of petal width\n",
    "petal_width_median = np.median(X[:,1]) # Obtain median of petal width\n",
    "petal_width_mode= stats.mode(X[:,1]) # Obtain mode of petal width\n",
    "petal_width_range = X[:,1].max() - X[:,1].min() # Obtain range of petal width"
   ]
  },
  {
   "cell_type": "code",
   "execution_count": 33,
   "metadata": {},
   "outputs": [
    {
     "name": "stdout",
     "output_type": "stream",
     "text": [
      "The petal length mean is: 1.1993333333333336 cm\n",
      "The petal length mode is: 0.2 cm\n",
      "The petal length median is: 1.3 cm\n",
      "The petal length range is: 2.4 cm\n",
      "The petal length std is: 0.7596926279021594 cm\n"
     ]
    }
   ],
   "source": [
    "print(\"The petal length mean is: {} cm\".format(petal_width_mean)) # Print petal width mean\n",
    "print('The petal length mode is: {} cm'.format(petal_width_mode[0].item())) # Print petal width mode\n",
    "print('The petal length median is: {} cm'.format(petal_width_median)) # Print petal width median\n",
    "print('The petal length range is: {} cm'.format(petal_width_range))  # Print petal width range\n",
    "print('The petal length std is: {} cm'.format(petal_width_std)) # Print petal width standard deviation"
   ]
  },
  {
   "cell_type": "code",
   "execution_count": 34,
   "metadata": {},
   "outputs": [
    {
     "name": "stdout",
     "output_type": "stream",
     "text": [
      "[0 1 2]\n"
     ]
    },
    {
     "data": {
      "text/plain": [
       "<matplotlib.legend.Legend at 0x1c2203cfa00>"
      ]
     },
     "execution_count": 34,
     "metadata": {},
     "output_type": "execute_result"
    },
    {
     "data": {
      "image/png": "[encoded data removed]",
      "text/plain": [
       "<Figure size 864x504 with 1 Axes>"
      ]
     },
     "metadata": {
      "needs_background": "light"
     },
     "output_type": "display_data"
    }
   ],
   "source": [
    "#Plot classes and their distribution\n",
    "labels = np.unique(y)\n",
    "print(labels)\n",
    "plt.figure(figsize=(12,7))\n",
    "for label in labels:\n",
    "    plt.plot(X[:,0][y==label], X[:,1][y==label], 'o', label = \"Class: {}\".format(label))\n",
    "    \n",
    "plt.grid()\n",
    "plt.legend()"
   ]
  },
  {
   "cell_type": "markdown",
   "metadata": {},
   "source": [
    "## Implementing Perceptron Hebbian Learning \n",
    "\n",
    "Now, once we know all the type of data and their distribution, lets see what the Perceptron can do. \n",
    "As seen in the theory, __Hebbian learning__ focuses on reinforcing connections that lead to correct outputs. For this, a first trial an error method has to be applied. Just as human learning, __Hebbian learning__ starts by trying to guess what is needed to be achieved. Once the first try is done, the __output is compared to the desired target__ and a cost function proportional to this __deviation or error__ is calculated. \n",
    "\n",
    "After the deviation is quantified, the __weights and biases of each neuron__ get tweaked in the direction opposite of the error. In this manner, if error is big, the weights get lowered down such that the amount of transmission is decreased --decreasing the error for future samples this way. This is the esence of essence of hebbian learning, and as we will see in the future, of a group of the most effective training algorithms in machine learning. \n",
    "\n",
    "<img src=\"imgs/backpropagation.gif\" alt=\"Drawing\" style=\"width: 400px;\"/>\n",
    "\n",
    "\n",
    "The previous method can be described mathematically in the following manner:\n",
    "\n",
    "Remembering the LTU notation:\n",
    "\n",
    "<img src=\"imgs/ltu.png\" alt=\"Drawing\" style=\"width: 400px;\"/>\n",
    "\n",
    "If a neuron has a set of connections given by $w_s$ then we can define the following training method:\n",
    "\n",
    "#### Hebbian Rule\n",
    "\n",
    "\n",
    "$$ w_{ij} = w_{ij}^{t=-1} + \\nu (y_j - w_{ij}^TX_j)X_j  $$\n",
    "\n",
    "\n",
    "Where:\n",
    "\n",
    "- $w_{ij}$ is the ith weight going to the ith neuron.\n",
    "- $y_j $ is the jth training instance target.\n",
    "- $X_j$ is the jth input matrix.\n",
    "- $\\nu$ is the learning rate. \n",
    "\n",
    "In this manner, each  error will guide us how to tweak each parameter for the error to grow smaller every time. \n",
    "\n",
    "In the next piece of code, we can observe the shell of a __learning predictor agent__ capable of implementing hebbian learning as its main algorithm. Complete the code so it is able to:\n",
    "\n",
    "- Be trained according to hebbs learning algorithm (also known as __Hebbs rule__) \n",
    "- Keep its weights, biases.\n",
    "- Be able to make predictions according to certain new instances. \n",
    "- return the trained weights.\n",
    "- Store the error per training step and plot it within a class method. \n",
    "\n",
    "### Complete the empty spaces\n",
    "\n",
    "\n",
    "```python\n",
    "class SingleLinearThresholdUnit(BaseEstimator, TransformerMixin):\n",
    "    \n",
    "    def __init__(self, threshold = 0, learning_rate = 0.01, epoch = 10):\n",
    "        self.learning_rate = learning_rate\n",
    "        self.threshold = threshold\n",
    "        self.epoch = epoch\n",
    "        self.e_ = None \n",
    "        self.w_ = None\n",
    "        self.error_evol = np.array([])\n",
    "        \n",
    "    @staticmethod\n",
    "    def _format(x):\n",
    "        if not isinstance(x,(np.generic, np.ndarray)):\n",
    "            return np.array(x)\n",
    "        else:\n",
    "            return x\n",
    "        \n",
    "    def _biasing(self, X):\n",
    "        if self.w_.shape[1] != X.shape[1]:\n",
    "            X = np.c_[X, np.ones(len(X))]\n",
    "        return X\n",
    "        \n",
    "            \n",
    "    \n",
    "    def predict(self, X):\n",
    "        ...\n",
    "        \n",
    "        return ___\n",
    "    \n",
    "    def fit(self, X, y):\n",
    "        avg_error = 0\n",
    "        self.e_ = 0\n",
    "        ...\n",
    "        ...\n",
    "                \n",
    "            \n",
    "    def get_line(self):\n",
    "        return self.w_\n",
    "    def get_error(self):\n",
    "        return self.e_\n",
    "    def plot_error(self):\n",
    "        plt.___\n",
    "\n",
    "```"
   ]
  },
  {
   "cell_type": "markdown",
   "metadata": {},
   "source": [
    "## Using the Perceptron to Discover Patterns.\n",
    "\n",
    "Once the perceptron is ready and working, a training protocol has to defined. A good algorithm is no the only thing needed for a learning agent to perform. \n",
    "\n",
    "\n",
    "\n",
    "### Weight Initialisation\n",
    "\n",
    "Neural network weights suffer from a phenomenon called freezing. That phenomenon it is observed when the initial values of the weights are found to be symmetric. If that is the case, then the network is said to be freezed and the learning underperforms possibly for getting into local minima or other factors. It has been found that a neural network to aviod this erratic behaviour, noise has to be added to initial weights in order to break symmetry. These augments the probability of these networks to find the global optimum or realy good local optima within the search space. \n",
    "\n",
    "### Hyperparameter definition\n",
    "\n",
    "Another factor that really affects neural networks is the value of the hyperparamethers. In reality, each weight within the network, activation functions and even training methodology; can be defined as hyperparameters. However, between each architecture the main parameters to be tuned by us are the hyperparameter __learning rate__ $\\nu$ in the previous equation and the __training batch__. The first one accounts for the amount of error each weight will be tweaking according to each instance. It is a measure of the importance on each instance and its error to correct. \n",
    "\n",
    "The training batch readily is the number of elements to trained at once before to test its performance. This period of time is denominated as __epoch__ and once each epoch finishes training, the network is ready to receive more instances to observe its performance or to make predicitons.\n",
    "\n",
    "## These factors have to be taken into account while getting the neuron into its initial state.\n",
    "\n",
    "\n",
    "### Write the initialisation or constructor methods by taking into account these factors\n",
    "\n",
    "### Hint:  The ```python sklearn.utils ``` module could readily be of great use for this.\n",
    "\n",
    "\n",
    "\n",
    "```python \n",
    "\n",
    "class SingleLinearThresholdUnit(SingleLinearThresholdUnit):\n",
    "    \n",
    "    def fit(self, X, y):\n",
    "        avg_error = 0\n",
    "        self.e_ = 0\n",
    "        \n",
    "        \n",
    "        y = self._format(y)\n",
    "        N = len(X)\n",
    "\n",
    "        \n",
    "        self.w_ = ____\n",
    "        X = self._biasing(self._format(X))\n",
    "        \n",
    "        for lapse in range(self.epoch):\n",
    "            X, y = shuffle(X, y)\n",
    "            avg_error = 0\n",
    "            self.e_ = 0\n",
    "            for idx, x in enumerate(X):\n",
    "                \n",
    "                self.e_ = y[idx] - self.predict(x.reshape(1,-1))\n",
    "                \n",
    "                self.w_ = self.w_ + self.learning_rate*self.e_*x\n",
    "                avg_error += self.e_/float(N)\n",
    "            self.error_evol = np.append(self.error_evol, avg_error)\n",
    "```               \n",
    "            \n",
    "#### Try implementing the fit method by class spreading in the cell below"
   ]
  },
  {
   "cell_type": "markdown",
   "metadata": {},
   "source": [
    "### Balanced Classes\n",
    "\n",
    "One of the main things to consider to train neural networks come from a statistical reality: __class balance__. Due to the way it is trained, neural networks are sensitive the number of instances each class appears. If more  observations are to be found of a particular class, then the neural net will benefit the classification of that class. For that reason, balancing the classes is strongly encouraged when possible --otherwise more data will be needed or splitting the data to the size of roughly the minimum class can help. \n",
    "\n",
    "\n",
    "To split the class evenly we first can classify the number of occurrences by label. Use __numpy's slicing__ to select an even number of __Iris Setosa__ class __(y = 1)__ vs the rest.\n",
    "\n",
    "After that use the ```Python sklearn.model_selection ``` module to load the ```Python train_test_split ``` function. This function allows you to split the data into __test and training sets__ depending on a particular condition.\n",
    "\n",
    "\n",
    "You can implement the train test split in the following manner:\n",
    "\n",
    "```Python \n",
    "\n",
    "X_train, X_test, y_train, y_test = train_test_split(...\n",
    "                                                    ...)\n",
    "```\n",
    "\n",
    "This returns a tuple of four with training and test arrays. \n",
    "\n"
   ]
  },
  {
   "cell_type": "code",
   "execution_count": 35,
   "metadata": {},
   "outputs": [],
   "source": [
    "## Your data slicing and splitting code here. \n",
    "y_new = np.array((y==SETOSA)).astype(float) # Create new array where setosa class is 1, versicolor and virginica are 0\n",
    "y_new  = y_new[:100] # Grab the first 100 elements of new Y array\n",
    "X = X[:100] # Grab the first 100 rows "
   ]
  },
  {
   "cell_type": "code",
   "execution_count": null,
   "metadata": {},
   "outputs": [],
   "source": []
  },
  {
   "cell_type": "code",
   "execution_count": 36,
   "metadata": {},
   "outputs": [],
   "source": [
    "#Divide our new X and Y, in train and test set.\n",
    "X_train, X_test, y_train, y_test = train_test_split(X, y_new, test_size=0.33, random_state=42)"
   ]
  },
  {
   "cell_type": "markdown",
   "metadata": {},
   "source": [
    "## Error plot\n",
    "\n",
    "A good way to see if the neural network is converging towards the expected targets, a good visualisation of the error between instances is of great use. This not only helps us to verify if our hyperparameters and/or assumptions made about the data, are the correct ones before spending hours training without results. But, it also allows us to __gain insights__ about the range of values the __training batch and learning rate could have in order for the network to start converging__. \n",
    "\n",
    "This is the main reason of why an error state is of great importance during a network training. So lets now implement ours:\n",
    "\n",
    "## Complete the following code to generate an error plot and remember to instanciate an error array during training \n",
    "\n",
    "\n",
    "```Python \n",
    "\n",
    "class SingleLinearThresholdUnit(SingleLinearThresholdUnit):\n",
    "    \n",
    "    def error_plot(self):\n",
    "        ...\n",
    "        ...\n",
    "        \n",
    "    def get_line(self):\n",
    "        ...\n",
    "        ...\n",
    "    \n",
    "    \n",
    "```"
   ]
  },
  {
   "cell_type": "markdown",
   "metadata": {},
   "source": [
    "# Training the network\n",
    "\n",
    "Once is all set, now it is time to train and test your network. Using the __fit method__ train a Hebbian powered LTU and start training it! \n",
    "Start by setting a __learning rate of 1__. Use all the samples, __randomly__ to train the network and answer the following questions:\n",
    "\n",
    "Plot the error graph and explore: \n",
    "\n",
    "- Is the learning rate value right or is the error diverging.\n",
    "- What is the effect of training without shuffling the data?\n",
    "- Is the class balance affecting experimenting the LTU training?!\n",
    "\n",
    "\n",
    "\n",
    "\n",
    "\n",
    "    "
   ]
  },
  {
   "cell_type": "markdown",
   "metadata": {},
   "source": [
    "#### After reaching a fair enough result note down the amount of epochs and learning parameter and answer the following:\n",
    "\n",
    "\n",
    "- What is the meaning of each of the weights found by the network?\n",
    "- What was the role of the epoch while experimentally training the LTU?!\n",
    "- How does it compare with using the normal equation? Was it faster? Easier?!\n",
    "\n",
    "\n"
   ]
  },
  {
   "cell_type": "code",
   "execution_count": 37,
   "metadata": {},
   "outputs": [],
   "source": [
    "class SingleLinearThresholdUnit(BaseEstimator, TransformerMixin):\n",
    "\n",
    "    def __init__(self, threshold = 0, learning_rate = 0.01, epoch = 10):\n",
    "        self.learning_rate = learning_rate\n",
    "        self.threshold = threshold\n",
    "        self.epoch = epoch\n",
    "        self.e_ = None \n",
    "        self.w_ = None\n",
    "        self.error_evol = np.array([])\n",
    "\n",
    "    @staticmethod\n",
    "    def _format(x):\n",
    "        '''\n",
    "        X: numpy array of shape (N,M)\n",
    "        \n",
    "        Transforms X into a numpy array\n",
    "        '''\n",
    "        if not isinstance(x,(np.generic, np.ndarray)):\n",
    "            return np.array(x)\n",
    "        else:\n",
    "            return x\n",
    "\n",
    "    def _biasing(self, X):\n",
    "        '''\n",
    "        X: numpy array of shape(N,M)\n",
    "        \n",
    "        Add columns of 1's to our X\n",
    "        '''\n",
    "        if self.w_.shape[0] != X.shape[1]:\n",
    "            X = np.c_[X, np.ones(len(X))]\n",
    "        return X\n",
    "\n",
    "\n",
    "\n",
    "    def predict(self, X):\n",
    "        '''\n",
    "        X: numpy array of shape(N,M)\n",
    "        \n",
    "        Predict class of X, based on the weights obtained through Hebbian Learning\n",
    "        '''\n",
    "        X = self._biasing(X)\n",
    "        return (self.w_.dot(X.T) > self.threshold).astype(float)\n",
    "\n",
    "    def fit(self, X, y):\n",
    "        '''\n",
    "        X: numpy array of shape (N,M)\n",
    "        y: numpy array of shape (L,)\n",
    "        \n",
    "        Obtain the best line fit through Hebbian Learning, that best divides our classes    \n",
    "        '''\n",
    "        self.e_ = 0 # Error \n",
    "        N,M = X.shape # Obtain shape of predictors variables\n",
    "\n",
    "        self.w_ = np.random.random((M+1,))*np.sqrt(2/X.size) # Weight initilization\n",
    "        X = self._biasing(X) # Call biasing function to add column of 1's to our predictor variables\n",
    "        \n",
    "        for lapse in range(self.epoch):\n",
    "            X, y = shuffle(X, y) # Shuffle our X and y\n",
    "            avg_error = 0 # Avg error through epoch\n",
    "            for idx, x in enumerate(X):\n",
    "                \n",
    "                self.e_ = y[idx] - self.predict(x.reshape(1,-1)) # Obtain prediction with weights\n",
    "                self.w_ = self.w_ + self.learning_rate*self.e_*x # Update weights via lerning rate and error of prediction\n",
    "                avg_error += self.e_/float(N) # Obtain average error\n",
    "                \n",
    "            self.error_evol = np.append(self.error_evol, avg_error) # Append avg_error to error_evol, to see error evolution through epochs\n",
    "        \n",
    "\n",
    "\n",
    "    def get_line(self):\n",
    "        '''\n",
    "        Returns the weights obtained through Hebbian Learning\n",
    "        \n",
    "        '''\n",
    "        return self.w_\n",
    "    \n",
    "    def get_error(self):\n",
    "        '''\n",
    "        Returns the error obtained through Hebbian Learning\n",
    "        \n",
    "        '''\n",
    "        return self.e_\n",
    "    \n",
    "    def plot_error(self):\n",
    "        '''\n",
    "        Plot the error evolution through the epochs\n",
    "        \n",
    "        '''\n",
    "        plt.figure(figsize=(12,7))\n",
    "        plt.plot(self.error_evol)\n",
    "        plt.grid()\n",
    "        plt.xlabel('Epoch')\n",
    "        plt.ylabel('Error')"
   ]
  },
  {
   "cell_type": "code",
   "execution_count": 38,
   "metadata": {},
   "outputs": [],
   "source": [
    "## Your training and plotting functions here \n",
    "# Remember start with a learning rate of 1 ans with 10 epochs \n",
    "# Use the final average error per epoch to guide yourself towards the best hyperparameters \n",
    "\n",
    "SebasNeuron = SingleLinearThresholdUnit(learning_rate=.005, epoch=10)\n",
    "SebasNeuron.fit(X_train,y_train)"
   ]
  },
  {
   "cell_type": "code",
   "execution_count": 39,
   "metadata": {},
   "outputs": [
    {
     "data": {
      "image/png": "[encoded data removed]",
      "text/plain": [
       "<Figure size 864x504 with 1 Axes>"
      ]
     },
     "metadata": {
      "needs_background": "light"
     },
     "output_type": "display_data"
    }
   ],
   "source": [
    "SebasNeuron.plot_error()"
   ]
  },
  {
   "cell_type": "code",
   "execution_count": 40,
   "metadata": {},
   "outputs": [
    {
     "data": {
      "text/plain": [
       "array([-0.00113617,  0.07486953, -0.05282034])"
      ]
     },
     "execution_count": 40,
     "metadata": {},
     "output_type": "execute_result"
    }
   ],
   "source": [
    "SebasNeuron.get_line()"
   ]
  },
  {
   "cell_type": "markdown",
   "metadata": {},
   "source": [
    "#### Use the following code to plot the 2D projection of the decision boundary found and overlap the desired instances \n",
    "\n",
    "```Python \n",
    "\n",
    "def plot_projection(w, x):\n",
    "    y =  -(w[0]*x + w[2])/w[1]\n",
    "    plt.plot(x,y)\n",
    "    \n",
    "```\n",
    "\n",
    "\n",
    "- What is the relation between the networks weights and the line given?!\n",
    "- Which learning algorithm will you use and when, according to the task?\n",
    "\n"
   ]
  },
  {
   "cell_type": "code",
   "execution_count": 41,
   "metadata": {},
   "outputs": [],
   "source": [
    "## Your plotting code here\n",
    "# Use the error plot to see the evolution of the error over time\n",
    "\n",
    "def plot_projection(w, x):\n",
    "    y =  -(w[0]*x + w[2])/w[1]\n",
    "    plt.plot(x,y)"
   ]
  },
  {
   "cell_type": "code",
   "execution_count": 42,
   "metadata": {},
   "outputs": [
    {
     "name": "stdout",
     "output_type": "stream",
     "text": [
      "[0 1 2]\n"
     ]
    },
    {
     "data": {
      "image/png": "[encoded data removed]",
      "text/plain": [
       "<Figure size 432x288 with 1 Axes>"
      ]
     },
     "metadata": {
      "needs_background": "light"
     },
     "output_type": "display_data"
    }
   ],
   "source": [
    "labels = np.unique(y)\n",
    "print(labels)\n",
    "\n",
    "for label in labels:\n",
    "    plt.plot(X[:,0][y_new==label], X[:,1][y_new==label], '*', label = \"class: {}\".format(label))\n",
    "    \n",
    "plt.legend()\n",
    "\n",
    "t = np.linspace(0,5,1000)\n",
    "\n",
    "plot_projection(SebasNeuron.get_line(),t)"
   ]
  },
  {
   "cell_type": "code",
   "execution_count": 43,
   "metadata": {},
   "outputs": [],
   "source": [
    "from sklearn.metrics import classification_report, confusion_matrix"
   ]
  },
  {
   "cell_type": "code",
   "execution_count": 44,
   "metadata": {},
   "outputs": [],
   "source": [
    "y_pred = SebasNeuron.predict(X_test)"
   ]
  },
  {
   "cell_type": "code",
   "execution_count": 45,
   "metadata": {},
   "outputs": [
    {
     "name": "stdout",
     "output_type": "stream",
     "text": [
      "[[19  0]\n",
      " [ 0 14]]\n"
     ]
    }
   ],
   "source": [
    "print(confusion_matrix(y_test,y_pred))"
   ]
  },
  {
   "cell_type": "code",
   "execution_count": 46,
   "metadata": {},
   "outputs": [
    {
     "name": "stdout",
     "output_type": "stream",
     "text": [
      "              precision    recall  f1-score   support\n",
      "\n",
      "         0.0       1.00      1.00      1.00        19\n",
      "         1.0       1.00      1.00      1.00        14\n",
      "\n",
      "    accuracy                           1.00        33\n",
      "   macro avg       1.00      1.00      1.00        33\n",
      "weighted avg       1.00      1.00      1.00        33\n",
      "\n"
     ]
    }
   ],
   "source": [
    "print(classification_report(y_test,y_pred))"
   ]
  },
  {
   "cell_type": "markdown",
   "metadata": {},
   "source": [
    "## You have made it so far!\n",
    "\n",
    "Congratulations if you had reached this far. __Training neural nets__ might not be an easy taks. So many factors start entering into play with such powerful algorithms. Their __capabilities that made them incredible versatile agents are the same that made them really noisy__. For that reason neural networks are of the lasts algorithms that are usually used when __white box__ or other simpler models fail to properly learn from data. However, you should fear not of their power. By understanding how each factor affect, a bit of patience and luck could give your next project a __massive amout of intelligence__.\n",
    "\n",
    "Now you know a bit more about neural nets and their implementation consequences. Just as they could be great algorithms, they could be a nightmare. That is the reason so much research has been delved into them. Moreover, the __story just begins here__. Neural nets and their algorithms have evolved into real autonomous machines. Capable of learning from your voice or to drive a car. \n",
    "\n",
    "<img src=\"imgs/robfail.gif\" alt=\"Drawing\" style=\"width: 300px;\"/>\n",
    "\n",
    "#### Well... Nearly 🙄.\n",
    "\n",
    "In the next laboratory, we will see how these ideas from __Donald Hebb and Frank Rosenblatt__ were utilised to derive an even more powerful learning algorithm that was capable of getting into any data scientist __deepest dream__. We will see how this lead neural nets to evolve and which unbelievable applications were allowed to exist! \n",
    "so\n",
    "\n",
    "<img src=\"imgs/deepdrm.jpg\" alt=\"Drawing\" style=\"width: 400px;\"/>\n",
    "\n",
    "## Congratulations \n",
    "\n",
    "Cheer up and see you next time!\n",
    "\n",
    "<img src=\"imgs/bye.gif\" alt=\"Drawing\" style=\"width: 400px;\"/>\n"
   ]
  }
 ],
 "metadata": {
  "kernelspec": {
   "display_name": "Python 3",
   "language": "python",
   "name": "python3"
  },
  "language_info": {
   "codemirror_mode": {
    "name": "ipython",
    "version": 3
   },
   "file_extension": ".py",
   "mimetype": "text/x-python",
   "name": "python",
   "nbconvert_exporter": "python",
   "pygments_lexer": "ipython3",
   "version": "3.8.3"
  }
 },
 "nbformat": 4,
 "nbformat_minor": 4
}
